{
 "cells": [
  {
   "cell_type": "code",
   "execution_count": 1,
   "metadata": {
    "collapsed": true,
    "pycharm": {
     "name": "#%%\n"
    }
   },
   "outputs": [],
   "source": [
    "import pandas as pd\n",
    "import numpy as np"
   ]
  },
  {
   "cell_type": "code",
   "execution_count": 6,
   "outputs": [
    {
     "data": {
      "text/plain": "                                 0  1\n0           never talk to me again  3\n1  I am proud of your achievements  2\n2   It is the worst day in my life  3\n3                 Miss you so much  0\n4                     food is life  4",
      "text/html": "<div>\n<style scoped>\n    .dataframe tbody tr th:only-of-type {\n        vertical-align: middle;\n    }\n\n    .dataframe tbody tr th {\n        vertical-align: top;\n    }\n\n    .dataframe thead th {\n        text-align: right;\n    }\n</style>\n<table border=\"1\" class=\"dataframe\">\n  <thead>\n    <tr style=\"text-align: right;\">\n      <th></th>\n      <th>0</th>\n      <th>1</th>\n    </tr>\n  </thead>\n  <tbody>\n    <tr>\n      <th>0</th>\n      <td>never talk to me again</td>\n      <td>3</td>\n    </tr>\n    <tr>\n      <th>1</th>\n      <td>I am proud of your achievements</td>\n      <td>2</td>\n    </tr>\n    <tr>\n      <th>2</th>\n      <td>It is the worst day in my life</td>\n      <td>3</td>\n    </tr>\n    <tr>\n      <th>3</th>\n      <td>Miss you so much</td>\n      <td>0</td>\n    </tr>\n    <tr>\n      <th>4</th>\n      <td>food is life</td>\n      <td>4</td>\n    </tr>\n  </tbody>\n</table>\n</div>"
     },
     "execution_count": 6,
     "metadata": {},
     "output_type": "execute_result"
    }
   ],
   "source": [
    "train=pd.read_csv('train_emoji.csv',header=None)\n",
    "train.drop(labels=[2,3],axis=1,inplace=True)\n",
    "train.head()"
   ],
   "metadata": {
    "collapsed": false,
    "pycharm": {
     "name": "#%%\n"
    }
   }
  },
  {
   "cell_type": "code",
   "execution_count": 4,
   "outputs": [
    {
     "data": {
      "text/plain": "                            0  1\n0             I want to eat\\t  4\n1         he did not answer\\t  3\n2            he got a raise\\t  2\n3      she got me a present\\t  0\n4  ha ha ha it was so funny\\t  2",
      "text/html": "<div>\n<style scoped>\n    .dataframe tbody tr th:only-of-type {\n        vertical-align: middle;\n    }\n\n    .dataframe tbody tr th {\n        vertical-align: top;\n    }\n\n    .dataframe thead th {\n        text-align: right;\n    }\n</style>\n<table border=\"1\" class=\"dataframe\">\n  <thead>\n    <tr style=\"text-align: right;\">\n      <th></th>\n      <th>0</th>\n      <th>1</th>\n    </tr>\n  </thead>\n  <tbody>\n    <tr>\n      <th>0</th>\n      <td>I want to eat\\t</td>\n      <td>4</td>\n    </tr>\n    <tr>\n      <th>1</th>\n      <td>he did not answer\\t</td>\n      <td>3</td>\n    </tr>\n    <tr>\n      <th>2</th>\n      <td>he got a raise\\t</td>\n      <td>2</td>\n    </tr>\n    <tr>\n      <th>3</th>\n      <td>she got me a present\\t</td>\n      <td>0</td>\n    </tr>\n    <tr>\n      <th>4</th>\n      <td>ha ha ha it was so funny\\t</td>\n      <td>2</td>\n    </tr>\n  </tbody>\n</table>\n</div>"
     },
     "execution_count": 4,
     "metadata": {},
     "output_type": "execute_result"
    }
   ],
   "source": [
    "test=pd.read_csv('test_emoji.csv',header=None)\n",
    "test.head()"
   ],
   "metadata": {
    "collapsed": false,
    "pycharm": {
     "name": "#%%\n"
    }
   }
  },
  {
   "cell_type": "code",
   "execution_count": 8,
   "outputs": [],
   "source": [
    "import emoji"
   ],
   "metadata": {
    "collapsed": false,
    "pycharm": {
     "name": "#%%\n"
    }
   }
  },
  {
   "cell_type": "code",
   "execution_count": 9,
   "outputs": [
    {
     "data": {
      "text/plain": "{':1st_place_medal:': '🥇',\n ':2nd_place_medal:': '🥈',\n ':3rd_place_medal:': '🥉',\n ':AB_button_(blood_type):': '🆎',\n ':ATM_sign:': '🏧',\n ':A_button_(blood_type):': '🅰️',\n ':Afghanistan:': '🇦🇫',\n ':Albania:': '🇦🇱',\n ':Algeria:': '🇩🇿',\n ':American_Samoa:': '🇦🇸',\n ':Andorra:': '🇦🇩',\n ':Angola:': '🇦🇴',\n ':Anguilla:': '🇦🇮',\n ':Antarctica:': '🇦🇶',\n ':Antigua_&_Barbuda:': '🇦🇬',\n ':Aquarius:': '♒',\n ':Argentina:': '🇦🇷',\n ':Aries:': '♈',\n ':Armenia:': '🇦🇲',\n ':Aruba:': '🇦🇼',\n ':Ascension_Island:': '🇦🇨',\n ':Australia:': '🇦🇺',\n ':Austria:': '🇦🇹',\n ':Azerbaijan:': '🇦🇿',\n ':BACK_arrow:': '🔙',\n ':B_button_(blood_type):': '🅱️',\n ':Bahamas:': '🇧🇸',\n ':Bahrain:': '🇧🇭',\n ':Bangladesh:': '🇧🇩',\n ':Barbados:': '🇧🇧',\n ':Belarus:': '🇧🇾',\n ':Belgium:': '🇧🇪',\n ':Belize:': '🇧🇿',\n ':Benin:': '🇧🇯',\n ':Bermuda:': '🇧🇲',\n ':Bhutan:': '🇧🇹',\n ':Bolivia:': '🇧🇴',\n ':Bosnia_&_Herzegovina:': '🇧🇦',\n ':Botswana:': '🇧🇼',\n ':Bouvet_Island:': '🇧🇻',\n ':Brazil:': '🇧🇷',\n ':British_Indian_Ocean_Territory:': '🇮🇴',\n ':British_Virgin_Islands:': '🇻🇬',\n ':Brunei:': '🇧🇳',\n ':Bulgaria:': '🇧🇬',\n ':Burkina_Faso:': '🇧🇫',\n ':Burundi:': '🇧🇮',\n ':CL_button:': '🆑',\n ':COOL_button:': '🆒',\n ':Cambodia:': '🇰🇭',\n ':Cameroon:': '🇨🇲',\n ':Canada:': '🇨🇦',\n ':Canary_Islands:': '🇮🇨',\n ':Cancer:': '♋',\n ':Cape_Verde:': '🇨🇻',\n ':Capricorn:': '♑',\n ':Caribbean_Netherlands:': '🇧🇶',\n ':Cayman_Islands:': '🇰🇾',\n ':Central_African_Republic:': '🇨🇫',\n ':Ceuta_&_Melilla:': '🇪🇦',\n ':Chad:': '🇹🇩',\n ':Chile:': '🇨🇱',\n ':China:': '🇨🇳',\n ':Christmas_Island:': '🇨🇽',\n ':Christmas_tree:': '🎄',\n ':Clipperton_Island:': '🇨🇵',\n ':Cocos_(Keeling)_Islands:': '🇨🇨',\n ':Colombia:': '🇨🇴',\n ':Comoros:': '🇰🇲',\n ':Congo_-_Brazzaville:': '🇨🇬',\n ':Congo_-_Kinshasa:': '🇨🇩',\n ':Cook_Islands:': '🇨🇰',\n ':Costa_Rica:': '🇨🇷',\n ':Croatia:': '🇭🇷',\n ':Cuba:': '🇨🇺',\n ':Curaçao:': '🇨🇼',\n ':Cyprus:': '🇨🇾',\n ':Czechia:': '🇨🇿',\n ':Côte_d’Ivoire:': '🇨🇮',\n ':Denmark:': '🇩🇰',\n ':Diego_Garcia:': '🇩🇬',\n ':Djibouti:': '🇩🇯',\n ':Dominica:': '🇩🇲',\n ':Dominican_Republic:': '🇩🇴',\n ':END_arrow:': '🔚',\n ':Ecuador:': '🇪🇨',\n ':Egypt:': '🇪🇬',\n ':El_Salvador:': '🇸🇻',\n ':England:': '🏴\\U000e0067\\U000e0062\\U000e0065\\U000e006e\\U000e0067\\U000e007f',\n ':Equatorial_Guinea:': '🇬🇶',\n ':Eritrea:': '🇪🇷',\n ':Estonia:': '🇪🇪',\n ':Eswatini:': '🇸🇿',\n ':Ethiopia:': '🇪🇹',\n ':European_Union:': '🇪🇺',\n ':FREE_button:': '🆓',\n ':Falkland_Islands:': '🇫🇰',\n ':Faroe_Islands:': '🇫🇴',\n ':Fiji:': '🇫🇯',\n ':Finland:': '🇫🇮',\n ':France:': '🇫🇷',\n ':French_Guiana:': '🇬🇫',\n ':French_Polynesia:': '🇵🇫',\n ':French_Southern_Territories:': '🇹🇫',\n ':Gabon:': '🇬🇦',\n ':Gambia:': '🇬🇲',\n ':Gemini:': '♊',\n ':Georgia:': '🇬🇪',\n ':Germany:': '🇩🇪',\n ':Ghana:': '🇬🇭',\n ':Gibraltar:': '🇬🇮',\n ':Greece:': '🇬🇷',\n ':Greenland:': '🇬🇱',\n ':Grenada:': '🇬🇩',\n ':Guadeloupe:': '🇬🇵',\n ':Guam:': '🇬🇺',\n ':Guatemala:': '🇬🇹',\n ':Guernsey:': '🇬🇬',\n ':Guinea:': '🇬🇳',\n ':Guinea-Bissau:': '🇬🇼',\n ':Guyana:': '🇬🇾',\n ':Haiti:': '🇭🇹',\n ':Heard_&_McDonald_Islands:': '🇭🇲',\n ':Honduras:': '🇭🇳',\n ':Hong_Kong_SAR_China:': '🇭🇰',\n ':Hungary:': '🇭🇺',\n ':ID_button:': '🆔',\n ':Iceland:': '🇮🇸',\n ':India:': '🇮🇳',\n ':Indonesia:': '🇮🇩',\n ':Iran:': '🇮🇷',\n ':Iraq:': '🇮🇶',\n ':Ireland:': '🇮🇪',\n ':Isle_of_Man:': '🇮🇲',\n ':Israel:': '🇮🇱',\n ':Italy:': '🇮🇹',\n ':Jamaica:': '🇯🇲',\n ':Japan:': '🇯🇵',\n ':Japanese_acceptable_button:': '🉑',\n ':Japanese_application_button:': '🈸',\n ':Japanese_bargain_button:': '🉐',\n ':Japanese_castle:': '🏯',\n ':Japanese_congratulations_button:': '㊗️',\n ':Japanese_discount_button:': '🈹',\n ':Japanese_dolls:': '🎎',\n ':Japanese_free_of_charge_button:': '🈚',\n ':Japanese_here_button:': '🈁',\n ':Japanese_monthly_amount_button:': '🈷️',\n ':Japanese_no_vacancy_button:': '🈵',\n ':Japanese_not_free_of_charge_button:': '🈶',\n ':Japanese_open_for_business_button:': '🈺',\n ':Japanese_passing_grade_button:': '🈴',\n ':Japanese_post_office:': '🏣',\n ':Japanese_prohibited_button:': '🈲',\n ':Japanese_reserved_button:': '🈯',\n ':Japanese_secret_button:': '㊙️',\n ':Japanese_service_charge_button:': '🈂️',\n ':Japanese_symbol_for_beginner:': '🔰',\n ':Japanese_vacancy_button:': '🈳',\n ':Jersey:': '🇯🇪',\n ':Jordan:': '🇯🇴',\n ':Kazakhstan:': '🇰🇿',\n ':Kenya:': '🇰🇪',\n ':Kiribati:': '🇰🇮',\n ':Kosovo:': '🇽🇰',\n ':Kuwait:': '🇰🇼',\n ':Kyrgyzstan:': '🇰🇬',\n ':Laos:': '🇱🇦',\n ':Latvia:': '🇱🇻',\n ':Lebanon:': '🇱🇧',\n ':Leo:': '♌',\n ':Lesotho:': '🇱🇸',\n ':Liberia:': '🇱🇷',\n ':Libra:': '♎',\n ':Libya:': '🇱🇾',\n ':Liechtenstein:': '🇱🇮',\n ':Lithuania:': '🇱🇹',\n ':Luxembourg:': '🇱🇺',\n ':Macao_SAR_China:': '🇲🇴',\n ':Madagascar:': '🇲🇬',\n ':Malawi:': '🇲🇼',\n ':Malaysia:': '🇲🇾',\n ':Maldives:': '🇲🇻',\n ':Mali:': '🇲🇱',\n ':Malta:': '🇲🇹',\n ':Marshall_Islands:': '🇲🇭',\n ':Martinique:': '🇲🇶',\n ':Mauritania:': '🇲🇷',\n ':Mauritius:': '🇲🇺',\n ':Mayotte:': '🇾🇹',\n ':Mexico:': '🇲🇽',\n ':Micronesia:': '🇫🇲',\n ':Moldova:': '🇲🇩',\n ':Monaco:': '🇲🇨',\n ':Mongolia:': '🇲🇳',\n ':Montenegro:': '🇲🇪',\n ':Montserrat:': '🇲🇸',\n ':Morocco:': '🇲🇦',\n ':Mozambique:': '🇲🇿',\n ':Mrs._Claus:': '🤶',\n ':Mrs._Claus_dark_skin_tone:': '🤶🏿',\n ':Mrs._Claus_light_skin_tone:': '🤶🏻',\n ':Mrs._Claus_medium-dark_skin_tone:': '🤶🏾',\n ':Mrs._Claus_medium-light_skin_tone:': '🤶🏼',\n ':Mrs._Claus_medium_skin_tone:': '🤶🏽',\n ':Myanmar_(Burma):': '🇲🇲',\n ':NEW_button:': '🆕',\n ':NG_button:': '🆖',\n ':Namibia:': '🇳🇦',\n ':Nauru:': '🇳🇷',\n ':Nepal:': '🇳🇵',\n ':Netherlands:': '🇳🇱',\n ':New_Caledonia:': '🇳🇨',\n ':New_Zealand:': '🇳🇿',\n ':Nicaragua:': '🇳🇮',\n ':Niger:': '🇳🇪',\n ':Nigeria:': '🇳🇬',\n ':Niue:': '🇳🇺',\n ':Norfolk_Island:': '🇳🇫',\n ':North_Korea:': '🇰🇵',\n ':North_Macedonia:': '🇲🇰',\n ':Northern_Mariana_Islands:': '🇲🇵',\n ':Norway:': '🇳🇴',\n ':OK_button:': '🆗',\n ':OK_hand:': '👌',\n ':OK_hand_dark_skin_tone:': '👌🏿',\n ':OK_hand_light_skin_tone:': '👌🏻',\n ':OK_hand_medium-dark_skin_tone:': '👌🏾',\n ':OK_hand_medium-light_skin_tone:': '👌🏼',\n ':OK_hand_medium_skin_tone:': '👌🏽',\n ':ON!_arrow:': '🔛',\n ':O_button_(blood_type):': '🅾️',\n ':Oman:': '🇴🇲',\n ':Ophiuchus:': '⛎',\n ':P_button:': '🅿️',\n ':Pakistan:': '🇵🇰',\n ':Palau:': '🇵🇼',\n ':Palestinian_Territories:': '🇵🇸',\n ':Panama:': '🇵🇦',\n ':Papua_New_Guinea:': '🇵🇬',\n ':Paraguay:': '🇵🇾',\n ':Peru:': '🇵🇪',\n ':Philippines:': '🇵🇭',\n ':Pisces:': '♓',\n ':Pitcairn_Islands:': '🇵🇳',\n ':Poland:': '🇵🇱',\n ':Portugal:': '🇵🇹',\n ':Puerto_Rico:': '🇵🇷',\n ':Qatar:': '🇶🇦',\n ':Romania:': '🇷🇴',\n ':Russia:': '🇷🇺',\n ':Rwanda:': '🇷🇼',\n ':Réunion:': '🇷🇪',\n ':SOON_arrow:': '🔜',\n ':SOS_button:': '🆘',\n ':Sagittarius:': '♐',\n ':Samoa:': '🇼🇸',\n ':San_Marino:': '🇸🇲',\n ':Santa_Claus:': '🎅',\n ':Santa_Claus_dark_skin_tone:': '🎅🏿',\n ':Santa_Claus_light_skin_tone:': '🎅🏻',\n ':Santa_Claus_medium-dark_skin_tone:': '🎅🏾',\n ':Santa_Claus_medium-light_skin_tone:': '🎅🏼',\n ':Santa_Claus_medium_skin_tone:': '🎅🏽',\n ':Saudi_Arabia:': '🇸🇦',\n ':Scorpio:': '♏',\n ':Scotland:': '🏴\\U000e0067\\U000e0062\\U000e0073\\U000e0063\\U000e0074\\U000e007f',\n ':Senegal:': '🇸🇳',\n ':Serbia:': '🇷🇸',\n ':Seychelles:': '🇸🇨',\n ':Sierra_Leone:': '🇸🇱',\n ':Singapore:': '🇸🇬',\n ':Sint_Maarten:': '🇸🇽',\n ':Slovakia:': '🇸🇰',\n ':Slovenia:': '🇸🇮',\n ':Solomon_Islands:': '🇸🇧',\n ':Somalia:': '🇸🇴',\n ':South_Africa:': '🇿🇦',\n ':South_Georgia_&_South_Sandwich_Islands:': '🇬🇸',\n ':South_Korea:': '🇰🇷',\n ':South_Sudan:': '🇸🇸',\n ':Spain:': '🇪🇸',\n ':Sri_Lanka:': '🇱🇰',\n ':St._Barthélemy:': '🇧🇱',\n ':St._Helena:': '🇸🇭',\n ':St._Kitts_&_Nevis:': '🇰🇳',\n ':St._Lucia:': '🇱🇨',\n ':St._Martin:': '🇲🇫',\n ':St._Pierre_&_Miquelon:': '🇵🇲',\n ':St._Vincent_&_Grenadines:': '🇻🇨',\n ':Statue_of_Liberty:': '🗽',\n ':Sudan:': '🇸🇩',\n ':Suriname:': '🇸🇷',\n ':Svalbard_&_Jan_Mayen:': '🇸🇯',\n ':Sweden:': '🇸🇪',\n ':Switzerland:': '🇨🇭',\n ':Syria:': '🇸🇾',\n ':São_Tomé_&_Príncipe:': '🇸🇹',\n ':T-Rex:': '🦖',\n ':TOP_arrow:': '🔝',\n ':Taiwan:': '🇹🇼',\n ':Tajikistan:': '🇹🇯',\n ':Tanzania:': '🇹🇿',\n ':Taurus:': '♉',\n ':Thailand:': '🇹🇭',\n ':Timor-Leste:': '🇹🇱',\n ':Togo:': '🇹🇬',\n ':Tokelau:': '🇹🇰',\n ':Tokyo_tower:': '🗼',\n ':Tonga:': '🇹🇴',\n ':Trinidad_&_Tobago:': '🇹🇹',\n ':Tristan_da_Cunha:': '🇹🇦',\n ':Tunisia:': '🇹🇳',\n ':Turkey:': '🇹🇷',\n ':Turkmenistan:': '🇹🇲',\n ':Turks_&_Caicos_Islands:': '🇹🇨',\n ':Tuvalu:': '🇹🇻',\n ':U.S._Outlying_Islands:': '🇺🇲',\n ':U.S._Virgin_Islands:': '🇻🇮',\n ':UP!_button:': '🆙',\n ':Uganda:': '🇺🇬',\n ':Ukraine:': '🇺🇦',\n ':United_Arab_Emirates:': '🇦🇪',\n ':United_Kingdom:': '🇬🇧',\n ':United_Nations:': '🇺🇳',\n ':United_States:': '🇺🇸',\n ':Uruguay:': '🇺🇾',\n ':Uzbekistan:': '🇺🇿',\n ':VS_button:': '🆚',\n ':Vanuatu:': '🇻🇺',\n ':Vatican_City:': '🇻🇦',\n ':Venezuela:': '🇻🇪',\n ':Vietnam:': '🇻🇳',\n ':Virgo:': '♍',\n ':Wales:': '🏴\\U000e0067\\U000e0062\\U000e0077\\U000e006c\\U000e0073\\U000e007f',\n ':Wallis_&_Futuna:': '🇼🇫',\n ':Western_Sahara:': '🇪🇭',\n ':Yemen:': '🇾🇪',\n ':Zambia:': '🇿🇲',\n ':Zimbabwe:': '🇿🇼',\n ':abacus:': '🧮',\n ':accordion:': '\\U0001fa97',\n ':adhesive_bandage:': '🩹',\n ':admission_tickets:': '🎟️',\n ':aerial_tramway:': '🚡',\n ':airplane:': '✈️',\n ':airplane_arrival:': '🛬',\n ':airplane_departure:': '🛫',\n ':alarm_clock:': '⏰',\n ':alembic:': '⚗️',\n ':alien:': '👽',\n ':alien_monster:': '👾',\n ':ambulance:': '🚑',\n ':american_football:': '🏈',\n ':amphora:': '🏺',\n ':anatomical_heart:': '\\U0001fac0',\n ':anchor:': '⚓',\n ':anger_symbol:': '💢',\n ':angry_face:': '😠',\n ':angry_face_with_horns:': '👿',\n ':anguished_face:': '😧',\n ':ant:': '🐜',\n ':antenna_bars:': '📶',\n ':anxious_face_with_sweat:': '😰',\n ':articulated_lorry:': '🚛',\n ':artist:': '🧑\\u200d🎨',\n ':artist_dark_skin_tone:': '🧑🏿\\u200d🎨',\n ':artist_light_skin_tone:': '🧑🏻\\u200d🎨',\n ':artist_medium-dark_skin_tone:': '🧑🏾\\u200d🎨',\n ':artist_medium-light_skin_tone:': '🧑🏼\\u200d🎨',\n ':artist_medium_skin_tone:': '🧑🏽\\u200d🎨',\n ':artist_palette:': '🎨',\n ':astonished_face:': '😲',\n ':astronaut:': '🧑\\u200d🚀',\n ':astronaut_dark_skin_tone:': '🧑🏿\\u200d🚀',\n ':astronaut_light_skin_tone:': '🧑🏻\\u200d🚀',\n ':astronaut_medium-dark_skin_tone:': '🧑🏾\\u200d🚀',\n ':astronaut_medium-light_skin_tone:': '🧑🏼\\u200d🚀',\n ':astronaut_medium_skin_tone:': '🧑🏽\\u200d🚀',\n ':atom_symbol:': '⚛️',\n ':auto_rickshaw:': '🛺',\n ':automobile:': '🚗',\n ':avocado:': '🥑',\n ':axe:': '🪓',\n ':baby:': '👶',\n ':baby_angel:': '👼',\n ':baby_angel_dark_skin_tone:': '👼🏿',\n ':baby_angel_light_skin_tone:': '👼🏻',\n ':baby_angel_medium-dark_skin_tone:': '👼🏾',\n ':baby_angel_medium-light_skin_tone:': '👼🏼',\n ':baby_angel_medium_skin_tone:': '👼🏽',\n ':baby_bottle:': '🍼',\n ':baby_chick:': '🐤',\n ':baby_dark_skin_tone:': '👶🏿',\n ':baby_light_skin_tone:': '👶🏻',\n ':baby_medium-dark_skin_tone:': '👶🏾',\n ':baby_medium-light_skin_tone:': '👶🏼',\n ':baby_medium_skin_tone:': '👶🏽',\n ':baby_symbol:': '🚼',\n ':backhand_index_pointing_down:': '👇',\n ':backhand_index_pointing_down_dark_skin_tone:': '👇🏿',\n ':backhand_index_pointing_down_light_skin_tone:': '👇🏻',\n ':backhand_index_pointing_down_medium-dark_skin_tone:': '👇🏾',\n ':backhand_index_pointing_down_medium-light_skin_tone:': '👇🏼',\n ':backhand_index_pointing_down_medium_skin_tone:': '👇🏽',\n ':backhand_index_pointing_left:': '👈',\n ':backhand_index_pointing_left_dark_skin_tone:': '👈🏿',\n ':backhand_index_pointing_left_light_skin_tone:': '👈🏻',\n ':backhand_index_pointing_left_medium-dark_skin_tone:': '👈🏾',\n ':backhand_index_pointing_left_medium-light_skin_tone:': '👈🏼',\n ':backhand_index_pointing_left_medium_skin_tone:': '👈🏽',\n ':backhand_index_pointing_right:': '👉',\n ':backhand_index_pointing_right_dark_skin_tone:': '👉🏿',\n ':backhand_index_pointing_right_light_skin_tone:': '👉🏻',\n ':backhand_index_pointing_right_medium-dark_skin_tone:': '👉🏾',\n ':backhand_index_pointing_right_medium-light_skin_tone:': '👉🏼',\n ':backhand_index_pointing_right_medium_skin_tone:': '👉🏽',\n ':backhand_index_pointing_up:': '👆',\n ':backhand_index_pointing_up_dark_skin_tone:': '👆🏿',\n ':backhand_index_pointing_up_light_skin_tone:': '👆🏻',\n ':backhand_index_pointing_up_medium-dark_skin_tone:': '👆🏾',\n ':backhand_index_pointing_up_medium-light_skin_tone:': '👆🏼',\n ':backhand_index_pointing_up_medium_skin_tone:': '👆🏽',\n ':backpack:': '🎒',\n ':bacon:': '🥓',\n ':badger:': '🦡',\n ':badminton:': '🏸',\n ':bagel:': '🥯',\n ':baggage_claim:': '🛄',\n ':baguette_bread:': '🥖',\n ':balance_scale:': '⚖️',\n ':bald:': '🦲',\n ':ballet_shoes:': '🩰',\n ':balloon:': '🎈',\n ':ballot_box_with_ballot:': '🗳️',\n ':banana:': '🍌',\n ':banjo:': '🪕',\n ':bank:': '🏦',\n ':bar_chart:': '📊',\n ':barber_pole:': '💈',\n ':baseball:': '⚾',\n ':basket:': '🧺',\n ':basketball:': '🏀',\n ':bat:': '🦇',\n ':bathtub:': '🛁',\n ':battery:': '🔋',\n ':beach_with_umbrella:': '🏖️',\n ':beaming_face_with_smiling_eyes:': '😁',\n ':beans:': '\\U0001fad8',\n ':bear:': '🐻',\n ':beating_heart:': '💓',\n ':beaver:': '\\U0001f9ab',\n ':bed:': '🛏️',\n ':beer_mug:': '🍺',\n ':beetle:': '\\U0001fab2',\n ':bell:': '🔔',\n ':bell_pepper:': '\\U0001fad1',\n ':bell_with_slash:': '🔕',\n ':bellhop_bell:': '🛎️',\n ':bento_box:': '🍱',\n ':beverage_box:': '🧃',\n ':bicycle:': '🚲',\n ':bikini:': '👙',\n ':billed_cap:': '🧢',\n ':biohazard:': '☣️',\n ':bird:': '🐦',\n ':birthday_cake:': '🎂',\n ':bison:': '\\U0001f9ac',\n ':biting_lip:': '\\U0001fae6',\n ':black_cat:': '🐈\\u200d⬛',\n ':black_circle:': '⚫',\n ':black_flag:': '🏴',\n ':black_heart:': '🖤',\n ':black_large_square:': '⬛',\n ':black_medium-small_square:': '◾',\n ':black_medium_square:': '◼️',\n ':black_nib:': '✒️',\n ':black_small_square:': '▪️',\n ':black_square_button:': '🔲',\n ':blossom:': '🌼',\n ':blowfish:': '🐡',\n ':blue_book:': '📘',\n ':blue_circle:': '🔵',\n ':blue_heart:': '💙',\n ':blue_square:': '🟦',\n ':blueberries:': '\\U0001fad0',\n ':boar:': '🐗',\n ':bomb:': '💣',\n ':bone:': '🦴',\n ':bookmark:': '🔖',\n ':bookmark_tabs:': '📑',\n ':books:': '📚',\n ':boomerang:': '\\U0001fa83',\n ':bottle_with_popping_cork:': '🍾',\n ':bouquet:': '💐',\n ':bow_and_arrow:': '🏹',\n ':bowl_with_spoon:': '🥣',\n ':bowling:': '🎳',\n ':boxing_glove:': '🥊',\n ':boy:': '👦',\n ':boy_dark_skin_tone:': '👦🏿',\n ':boy_light_skin_tone:': '👦🏻',\n ':boy_medium-dark_skin_tone:': '👦🏾',\n ':boy_medium-light_skin_tone:': '👦🏼',\n ':boy_medium_skin_tone:': '👦🏽',\n ':brain:': '🧠',\n ':bread:': '🍞',\n ':breast-feeding:': '🤱',\n ':breast-feeding_dark_skin_tone:': '🤱🏿',\n ':breast-feeding_light_skin_tone:': '🤱🏻',\n ':breast-feeding_medium-dark_skin_tone:': '🤱🏾',\n ':breast-feeding_medium-light_skin_tone:': '🤱🏼',\n ':breast-feeding_medium_skin_tone:': '🤱🏽',\n ':brick:': '🧱',\n ':bridge_at_night:': '🌉',\n ':briefcase:': '💼',\n ':briefs:': '🩲',\n ':bright_button:': '🔆',\n ':broccoli:': '🥦',\n ':broken_heart:': '💔',\n ':broom:': '🧹',\n ':brown_circle:': '🟤',\n ':brown_heart:': '🤎',\n ':brown_square:': '🟫',\n ':bubble_tea:': '\\U0001f9cb',\n ':bubbles:': '\\U0001fae7',\n ':bucket:': '\\U0001faa3',\n ':bug:': '🐛',\n ':building_construction:': '🏗️',\n ':bullet_train:': '🚅',\n ':bullseye:': '🎯',\n ':burrito:': '🌯',\n ':bus:': '🚌',\n ':bus_stop:': '🚏',\n ':bust_in_silhouette:': '👤',\n ':busts_in_silhouette:': '👥',\n ':butter:': '🧈',\n ':butterfly:': '🦋',\n ':cactus:': '🌵',\n ':calendar:': '📅',\n ':call_me_hand:': '🤙',\n ':call_me_hand_dark_skin_tone:': '🤙🏿',\n ':call_me_hand_light_skin_tone:': '🤙🏻',\n ':call_me_hand_medium-dark_skin_tone:': '🤙🏾',\n ':call_me_hand_medium-light_skin_tone:': '🤙🏼',\n ':call_me_hand_medium_skin_tone:': '🤙🏽',\n ':camel:': '🐪',\n ':camera:': '📷',\n ':camera_with_flash:': '📸',\n ':camping:': '🏕️',\n ':candle:': '🕯️',\n ':candy:': '🍬',\n ':canned_food:': '🥫',\n ':canoe:': '🛶',\n ':card_file_box:': '🗃️',\n ':card_index:': '📇',\n ':card_index_dividers:': '🗂️',\n ':carousel_horse:': '🎠',\n ':carp_streamer:': '🎏',\n ':carpentry_saw:': '\\U0001fa9a',\n ':carrot:': '🥕',\n ':castle:': '🏰',\n ':cat:': '🐈',\n ':cat_face:': '🐱',\n ':cat_with_tears_of_joy:': '😹',\n ':cat_with_wry_smile:': '😼',\n ':chains:': '⛓️',\n ':chair:': '🪑',\n ':chart_decreasing:': '📉',\n ':chart_increasing:': '📈',\n ':chart_increasing_with_yen:': '💹',\n ':check_box_with_check:': '☑️',\n ':check_mark:': '✔️',\n ':check_mark_button:': '✅',\n ':cheese_wedge:': '🧀',\n ':chequered_flag:': '🏁',\n ':cherries:': '🍒',\n ':cherry_blossom:': '🌸',\n ':chess_pawn:': '♟️',\n ':chestnut:': '🌰',\n ':chicken:': '🐔',\n ':child:': '🧒',\n ':child_dark_skin_tone:': '🧒🏿',\n ':child_light_skin_tone:': '🧒🏻',\n ':child_medium-dark_skin_tone:': '🧒🏾',\n ':child_medium-light_skin_tone:': '🧒🏼',\n ':child_medium_skin_tone:': '🧒🏽',\n ':children_crossing:': '🚸',\n ':chipmunk:': '🐿️',\n ':chocolate_bar:': '🍫',\n ':chopsticks:': '🥢',\n ':church:': '⛪',\n ':cigarette:': '🚬',\n ':cinema:': '🎦',\n ':circled_M:': 'Ⓜ️',\n ':circus_tent:': '🎪',\n ':cityscape:': '🏙️',\n ':cityscape_at_dusk:': '🌆',\n ':clamp:': '🗜️',\n ':clapper_board:': '🎬',\n ':clapping_hands:': '👏',\n ':clapping_hands_dark_skin_tone:': '👏🏿',\n ':clapping_hands_light_skin_tone:': '👏🏻',\n ':clapping_hands_medium-dark_skin_tone:': '👏🏾',\n ':clapping_hands_medium-light_skin_tone:': '👏🏼',\n ':clapping_hands_medium_skin_tone:': '👏🏽',\n ':classical_building:': '🏛️',\n ':clinking_beer_mugs:': '🍻',\n ':clinking_glasses:': '🥂',\n ':clipboard:': '📋',\n ':clockwise_vertical_arrows:': '🔃',\n ':closed_book:': '📕',\n ':closed_mailbox_with_lowered_flag:': '📪',\n ':closed_mailbox_with_raised_flag:': '📫',\n ':closed_umbrella:': '🌂',\n ':cloud:': '☁️',\n ':cloud_with_lightning:': '🌩️',\n ':cloud_with_lightning_and_rain:': '⛈️',\n ':cloud_with_rain:': '🌧️',\n ':cloud_with_snow:': '🌨️',\n ':clown_face:': '🤡',\n ':club_suit:': '♣️',\n ':clutch_bag:': '👝',\n ':coat:': '🧥',\n ':cockroach:': '\\U0001fab3',\n ':cocktail_glass:': '🍸',\n ':coconut:': '🥥',\n ':coffin:': '⚰️',\n ':coin:': '\\U0001fa99',\n ':cold_face:': '🥶',\n ':collision:': '💥',\n ':comet:': '☄️',\n ':compass:': '🧭',\n ':computer_disk:': '💽',\n ':computer_mouse:': '🖱️',\n ':confetti_ball:': '🎊',\n ':confounded_face:': '😖',\n ':confused_face:': '😕',\n ':construction:': '🚧',\n ':construction_worker:': '👷',\n ':construction_worker_dark_skin_tone:': '👷🏿',\n ':construction_worker_light_skin_tone:': '👷🏻',\n ':construction_worker_medium-dark_skin_tone:': '👷🏾',\n ':construction_worker_medium-light_skin_tone:': '👷🏼',\n ':construction_worker_medium_skin_tone:': '👷🏽',\n ':control_knobs:': '🎛️',\n ':convenience_store:': '🏪',\n ':cook:': '🧑\\u200d🍳',\n ':cook_dark_skin_tone:': '🧑🏿\\u200d🍳',\n ':cook_light_skin_tone:': '🧑🏻\\u200d🍳',\n ':cook_medium-dark_skin_tone:': '🧑🏾\\u200d🍳',\n ':cook_medium-light_skin_tone:': '🧑🏼\\u200d🍳',\n ':cook_medium_skin_tone:': '🧑🏽\\u200d🍳',\n ':cooked_rice:': '🍚',\n ':cookie:': '🍪',\n ':cooking:': '🍳',\n ':copyright:': '©️',\n ':coral:': '\\U0001fab8',\n ':couch_and_lamp:': '🛋️',\n ':counterclockwise_arrows_button:': '🔄',\n ':couple_with_heart:': '💑',\n ':couple_with_heart_dark_skin_tone:': '💑🏿',\n ':couple_with_heart_light_skin_tone:': '💑🏻',\n ':couple_with_heart_man_man:': '👨\\u200d❤️\\u200d👨',\n ':couple_with_heart_man_man_dark_skin_tone:': '👨🏿\\u200d❤️\\u200d👨🏿',\n ':couple_with_heart_man_man_dark_skin_tone_light_skin_tone:': '👨🏿\\u200d❤️\\u200d👨🏻',\n ':couple_with_heart_man_man_dark_skin_tone_medium-dark_skin_tone:': '👨🏿\\u200d❤️\\u200d👨🏾',\n ':couple_with_heart_man_man_dark_skin_tone_medium-light_skin_tone:': '👨🏿\\u200d❤️\\u200d👨🏼',\n ':couple_with_heart_man_man_dark_skin_tone_medium_skin_tone:': '👨🏿\\u200d❤️\\u200d👨🏽',\n ':couple_with_heart_man_man_light_skin_tone:': '👨🏻\\u200d❤️\\u200d👨🏻',\n ':couple_with_heart_man_man_light_skin_tone_dark_skin_tone:': '👨🏻\\u200d❤️\\u200d👨🏿',\n ':couple_with_heart_man_man_light_skin_tone_medium-dark_skin_tone:': '👨🏻\\u200d❤️\\u200d👨🏾',\n ':couple_with_heart_man_man_light_skin_tone_medium-light_skin_tone:': '👨🏻\\u200d❤️\\u200d👨🏼',\n ':couple_with_heart_man_man_light_skin_tone_medium_skin_tone:': '👨🏻\\u200d❤️\\u200d👨🏽',\n ':couple_with_heart_man_man_medium-dark_skin_tone:': '👨🏾\\u200d❤️\\u200d👨🏾',\n ':couple_with_heart_man_man_medium-dark_skin_tone_dark_skin_tone:': '👨🏾\\u200d❤️\\u200d👨🏿',\n ':couple_with_heart_man_man_medium-dark_skin_tone_light_skin_tone:': '👨🏾\\u200d❤️\\u200d👨🏻',\n ':couple_with_heart_man_man_medium-dark_skin_tone_medium-light_skin_tone:': '👨🏾\\u200d❤️\\u200d👨🏼',\n ':couple_with_heart_man_man_medium-dark_skin_tone_medium_skin_tone:': '👨🏾\\u200d❤️\\u200d👨🏽',\n ':couple_with_heart_man_man_medium-light_skin_tone:': '👨🏼\\u200d❤️\\u200d👨🏼',\n ':couple_with_heart_man_man_medium-light_skin_tone_dark_skin_tone:': '👨🏼\\u200d❤️\\u200d👨🏿',\n ':couple_with_heart_man_man_medium-light_skin_tone_light_skin_tone:': '👨🏼\\u200d❤️\\u200d👨🏻',\n ':couple_with_heart_man_man_medium-light_skin_tone_medium-dark_skin_tone:': '👨🏼\\u200d❤️\\u200d👨🏾',\n ':couple_with_heart_man_man_medium-light_skin_tone_medium_skin_tone:': '👨🏼\\u200d❤️\\u200d👨🏽',\n ':couple_with_heart_man_man_medium_skin_tone:': '👨🏽\\u200d❤️\\u200d👨🏽',\n ':couple_with_heart_man_man_medium_skin_tone_dark_skin_tone:': '👨🏽\\u200d❤️\\u200d👨🏿',\n ':couple_with_heart_man_man_medium_skin_tone_light_skin_tone:': '👨🏽\\u200d❤️\\u200d👨🏻',\n ':couple_with_heart_man_man_medium_skin_tone_medium-dark_skin_tone:': '👨🏽\\u200d❤️\\u200d👨🏾',\n ':couple_with_heart_man_man_medium_skin_tone_medium-light_skin_tone:': '👨🏽\\u200d❤️\\u200d👨🏼',\n ':couple_with_heart_medium-dark_skin_tone:': '💑🏾',\n ':couple_with_heart_medium-light_skin_tone:': '💑🏼',\n ':couple_with_heart_medium_skin_tone:': '💑🏽',\n ':couple_with_heart_person_person_dark_skin_tone_light_skin_tone:': '🧑🏿\\u200d❤️\\u200d🧑🏻',\n ':couple_with_heart_person_person_dark_skin_tone_medium-dark_skin_tone:': '🧑🏿\\u200d❤️\\u200d🧑🏾',\n ':couple_with_heart_person_person_dark_skin_tone_medium-light_skin_tone:': '🧑🏿\\u200d❤️\\u200d🧑🏼',\n ':couple_with_heart_person_person_dark_skin_tone_medium_skin_tone:': '🧑🏿\\u200d❤️\\u200d🧑🏽',\n ':couple_with_heart_person_person_light_skin_tone_dark_skin_tone:': '🧑🏻\\u200d❤️\\u200d🧑🏿',\n ':couple_with_heart_person_person_light_skin_tone_medium-dark_skin_tone:': '🧑🏻\\u200d❤️\\u200d🧑🏾',\n ':couple_with_heart_person_person_light_skin_tone_medium-light_skin_tone:': '🧑🏻\\u200d❤️\\u200d🧑🏼',\n ':couple_with_heart_person_person_light_skin_tone_medium_skin_tone:': '🧑🏻\\u200d❤️\\u200d🧑🏽',\n ':couple_with_heart_person_person_medium-dark_skin_tone_dark_skin_tone:': '🧑🏾\\u200d❤️\\u200d🧑🏿',\n ':couple_with_heart_person_person_medium-dark_skin_tone_light_skin_tone:': '🧑🏾\\u200d❤️\\u200d🧑🏻',\n ':couple_with_heart_person_person_medium-dark_skin_tone_medium-light_skin_tone:': '🧑🏾\\u200d❤️\\u200d🧑🏼',\n ':couple_with_heart_person_person_medium-dark_skin_tone_medium_skin_tone:': '🧑🏾\\u200d❤️\\u200d🧑🏽',\n ':couple_with_heart_person_person_medium-light_skin_tone_dark_skin_tone:': '🧑🏼\\u200d❤️\\u200d🧑🏿',\n ':couple_with_heart_person_person_medium-light_skin_tone_light_skin_tone:': '🧑🏼\\u200d❤️\\u200d🧑🏻',\n ':couple_with_heart_person_person_medium-light_skin_tone_medium-dark_skin_tone:': '🧑🏼\\u200d❤️\\u200d🧑🏾',\n ':couple_with_heart_person_person_medium-light_skin_tone_medium_skin_tone:': '🧑🏼\\u200d❤️\\u200d🧑🏽',\n ':couple_with_heart_person_person_medium_skin_tone_dark_skin_tone:': '🧑🏽\\u200d❤️\\u200d🧑🏿',\n ':couple_with_heart_person_person_medium_skin_tone_light_skin_tone:': '🧑🏽\\u200d❤️\\u200d🧑🏻',\n ':couple_with_heart_person_person_medium_skin_tone_medium-dark_skin_tone:': '🧑🏽\\u200d❤️\\u200d🧑🏾',\n ':couple_with_heart_person_person_medium_skin_tone_medium-light_skin_tone:': '🧑🏽\\u200d❤️\\u200d🧑🏼',\n ':couple_with_heart_woman_man:': '👩\\u200d❤️\\u200d👨',\n ':couple_with_heart_woman_man_dark_skin_tone:': '👩🏿\\u200d❤️\\u200d👨🏿',\n ':couple_with_heart_woman_man_dark_skin_tone_light_skin_tone:': '👩🏿\\u200d❤️\\u200d👨🏻',\n ':couple_with_heart_woman_man_dark_skin_tone_medium-dark_skin_tone:': '👩🏿\\u200d❤️\\u200d👨🏾',\n ':couple_with_heart_woman_man_dark_skin_tone_medium-light_skin_tone:': '👩🏿\\u200d❤️\\u200d👨🏼',\n ':couple_with_heart_woman_man_dark_skin_tone_medium_skin_tone:': '👩🏿\\u200d❤️\\u200d👨🏽',\n ':couple_with_heart_woman_man_light_skin_tone:': '👩🏻\\u200d❤️\\u200d👨🏻',\n ':couple_with_heart_woman_man_light_skin_tone_dark_skin_tone:': '👩🏻\\u200d❤️\\u200d👨🏿',\n ':couple_with_heart_woman_man_light_skin_tone_medium-dark_skin_tone:': '👩🏻\\u200d❤️\\u200d👨🏾',\n ':couple_with_heart_woman_man_light_skin_tone_medium-light_skin_tone:': '👩🏻\\u200d❤️\\u200d👨🏼',\n ':couple_with_heart_woman_man_light_skin_tone_medium_skin_tone:': '👩🏻\\u200d❤️\\u200d👨🏽',\n ':couple_with_heart_woman_man_medium-dark_skin_tone:': '👩🏾\\u200d❤️\\u200d👨🏾',\n ':couple_with_heart_woman_man_medium-dark_skin_tone_dark_skin_tone:': '👩🏾\\u200d❤️\\u200d👨🏿',\n ':couple_with_heart_woman_man_medium-dark_skin_tone_light_skin_tone:': '👩🏾\\u200d❤️\\u200d👨🏻',\n ':couple_with_heart_woman_man_medium-dark_skin_tone_medium-light_skin_tone:': '👩🏾\\u200d❤️\\u200d👨🏼',\n ':couple_with_heart_woman_man_medium-dark_skin_tone_medium_skin_tone:': '👩🏾\\u200d❤️\\u200d👨🏽',\n ':couple_with_heart_woman_man_medium-light_skin_tone:': '👩🏼\\u200d❤️\\u200d👨🏼',\n ':couple_with_heart_woman_man_medium-light_skin_tone_dark_skin_tone:': '👩🏼\\u200d❤️\\u200d👨🏿',\n ':couple_with_heart_woman_man_medium-light_skin_tone_light_skin_tone:': '👩🏼\\u200d❤️\\u200d👨🏻',\n ':couple_with_heart_woman_man_medium-light_skin_tone_medium-dark_skin_tone:': '👩🏼\\u200d❤️\\u200d👨🏾',\n ':couple_with_heart_woman_man_medium-light_skin_tone_medium_skin_tone:': '👩🏼\\u200d❤️\\u200d👨🏽',\n ':couple_with_heart_woman_man_medium_skin_tone:': '👩🏽\\u200d❤️\\u200d👨🏽',\n ':couple_with_heart_woman_man_medium_skin_tone_dark_skin_tone:': '👩🏽\\u200d❤️\\u200d👨🏿',\n ':couple_with_heart_woman_man_medium_skin_tone_light_skin_tone:': '👩🏽\\u200d❤️\\u200d👨🏻',\n ':couple_with_heart_woman_man_medium_skin_tone_medium-dark_skin_tone:': '👩🏽\\u200d❤️\\u200d👨🏾',\n ':couple_with_heart_woman_man_medium_skin_tone_medium-light_skin_tone:': '👩🏽\\u200d❤️\\u200d👨🏼',\n ':couple_with_heart_woman_woman:': '👩\\u200d❤️\\u200d👩',\n ':couple_with_heart_woman_woman_dark_skin_tone:': '👩🏿\\u200d❤️\\u200d👩🏿',\n ':couple_with_heart_woman_woman_dark_skin_tone_light_skin_tone:': '👩🏿\\u200d❤️\\u200d👩🏻',\n ':couple_with_heart_woman_woman_dark_skin_tone_medium-dark_skin_tone:': '👩🏿\\u200d❤️\\u200d👩🏾',\n ':couple_with_heart_woman_woman_dark_skin_tone_medium-light_skin_tone:': '👩🏿\\u200d❤️\\u200d👩🏼',\n ':couple_with_heart_woman_woman_dark_skin_tone_medium_skin_tone:': '👩🏿\\u200d❤️\\u200d👩🏽',\n ':couple_with_heart_woman_woman_light_skin_tone:': '👩🏻\\u200d❤️\\u200d👩🏻',\n ':couple_with_heart_woman_woman_light_skin_tone_dark_skin_tone:': '👩🏻\\u200d❤️\\u200d👩🏿',\n ':couple_with_heart_woman_woman_light_skin_tone_medium-dark_skin_tone:': '👩🏻\\u200d❤️\\u200d👩🏾',\n ':couple_with_heart_woman_woman_light_skin_tone_medium-light_skin_tone:': '👩🏻\\u200d❤️\\u200d👩🏼',\n ':couple_with_heart_woman_woman_light_skin_tone_medium_skin_tone:': '👩🏻\\u200d❤️\\u200d👩🏽',\n ':couple_with_heart_woman_woman_medium-dark_skin_tone:': '👩🏾\\u200d❤️\\u200d👩🏾',\n ':couple_with_heart_woman_woman_medium-dark_skin_tone_dark_skin_tone:': '👩🏾\\u200d❤️\\u200d👩🏿',\n ':couple_with_heart_woman_woman_medium-dark_skin_tone_light_skin_tone:': '👩🏾\\u200d❤️\\u200d👩🏻',\n ':couple_with_heart_woman_woman_medium-dark_skin_tone_medium-light_skin_tone:': '👩🏾\\u200d❤️\\u200d👩🏼',\n ':couple_with_heart_woman_woman_medium-dark_skin_tone_medium_skin_tone:': '👩🏾\\u200d❤️\\u200d👩🏽',\n ':couple_with_heart_woman_woman_medium-light_skin_tone:': '👩🏼\\u200d❤️\\u200d👩🏼',\n ':couple_with_heart_woman_woman_medium-light_skin_tone_dark_skin_tone:': '👩🏼\\u200d❤️\\u200d👩🏿',\n ':couple_with_heart_woman_woman_medium-light_skin_tone_light_skin_tone:': '👩🏼\\u200d❤️\\u200d👩🏻',\n ':couple_with_heart_woman_woman_medium-light_skin_tone_medium-dark_skin_tone:': '👩🏼\\u200d❤️\\u200d👩🏾',\n ':couple_with_heart_woman_woman_medium-light_skin_tone_medium_skin_tone:': '👩🏼\\u200d❤️\\u200d👩🏽',\n ':couple_with_heart_woman_woman_medium_skin_tone:': '👩🏽\\u200d❤️\\u200d👩🏽',\n ':couple_with_heart_woman_woman_medium_skin_tone_dark_skin_tone:': '👩🏽\\u200d❤️\\u200d👩🏿',\n ':couple_with_heart_woman_woman_medium_skin_tone_light_skin_tone:': '👩🏽\\u200d❤️\\u200d👩🏻',\n ':couple_with_heart_woman_woman_medium_skin_tone_medium-dark_skin_tone:': '👩🏽\\u200d❤️\\u200d👩🏾',\n ':couple_with_heart_woman_woman_medium_skin_tone_medium-light_skin_tone:': '👩🏽\\u200d❤️\\u200d👩🏼',\n ':cow:': '🐄',\n ':cow_face:': '🐮',\n ':cowboy_hat_face:': '🤠',\n ':crab:': '🦀',\n ':crayon:': '🖍️',\n ':credit_card:': '💳',\n ':crescent_moon:': '🌙',\n ':cricket:': '🦗',\n ':cricket_game:': '🏏',\n ':crocodile:': '🐊',\n ':croissant:': '🥐',\n ':cross_mark:': '❌',\n ':cross_mark_button:': '❎',\n ':crossed_fingers:': '🤞',\n ':crossed_fingers_dark_skin_tone:': '🤞🏿',\n ':crossed_fingers_light_skin_tone:': '🤞🏻',\n ':crossed_fingers_medium-dark_skin_tone:': '🤞🏾',\n ':crossed_fingers_medium-light_skin_tone:': '🤞🏼',\n ':crossed_fingers_medium_skin_tone:': '🤞🏽',\n ':crossed_flags:': '🎌',\n ':crossed_swords:': '⚔️',\n ':crown:': '👑',\n ':crutch:': '\\U0001fa7c',\n ':crying_cat:': '😿',\n ':crying_face:': '😢',\n ':crystal_ball:': '🔮',\n ':cucumber:': '🥒',\n ':cup_with_straw:': '🥤',\n ':cupcake:': '🧁',\n ':curling_stone:': '🥌',\n ':curly_hair:': '🦱',\n ':curly_loop:': '➰',\n ':currency_exchange:': '💱',\n ':curry_rice:': '🍛',\n ':custard:': '🍮',\n ':customs:': '🛃',\n ':cut_of_meat:': '🥩',\n ':cyclone:': '🌀',\n ':dagger:': '🗡️',\n ':dango:': '🍡',\n ':dark_skin_tone:': '🏿',\n ':dashing_away:': '💨',\n ':deaf_man:': '🧏\\u200d♂️',\n ':deaf_man_dark_skin_tone:': '🧏🏿\\u200d♂️',\n ':deaf_man_light_skin_tone:': '🧏🏻\\u200d♂️',\n ':deaf_man_medium-dark_skin_tone:': '🧏🏾\\u200d♂️',\n ':deaf_man_medium-light_skin_tone:': '🧏🏼\\u200d♂️',\n ':deaf_man_medium_skin_tone:': '🧏🏽\\u200d♂️',\n ':deaf_person:': '🧏',\n ':deaf_person_dark_skin_tone:': '🧏🏿',\n ':deaf_person_light_skin_tone:': '🧏🏻',\n ':deaf_person_medium-dark_skin_tone:': '🧏🏾',\n ':deaf_person_medium-light_skin_tone:': '🧏🏼',\n ':deaf_person_medium_skin_tone:': '🧏🏽',\n ':deaf_woman:': '🧏\\u200d♀️',\n ':deaf_woman_dark_skin_tone:': '🧏🏿\\u200d♀️',\n ':deaf_woman_light_skin_tone:': '🧏🏻\\u200d♀️',\n ':deaf_woman_medium-dark_skin_tone:': '🧏🏾\\u200d♀️',\n ':deaf_woman_medium-light_skin_tone:': '🧏🏼\\u200d♀️',\n ':deaf_woman_medium_skin_tone:': '🧏🏽\\u200d♀️',\n ':deciduous_tree:': '🌳',\n ':deer:': '🦌',\n ':delivery_truck:': '🚚',\n ':department_store:': '🏬',\n ':derelict_house:': '🏚️',\n ':desert:': '🏜️',\n ':desert_island:': '🏝️',\n ':desktop_computer:': '🖥️',\n ':detective:': '🕵️',\n ':detective_dark_skin_tone:': '🕵🏿',\n ':detective_light_skin_tone:': '🕵🏻',\n ':detective_medium-dark_skin_tone:': '🕵🏾',\n ':detective_medium-light_skin_tone:': '🕵🏼',\n ':detective_medium_skin_tone:': '🕵🏽',\n ':diamond_suit:': '♦️',\n ':diamond_with_a_dot:': '💠',\n ':dim_button:': '🔅',\n ':disappointed_face:': '😞',\n ':disguised_face:': '\\U0001f978',\n ':divide:': '➗',\n ':diving_mask:': '🤿',\n ':diya_lamp:': '🪔',\n ':dizzy:': '💫',\n ':dna:': '🧬',\n ':dodo:': '\\U0001f9a4',\n ':dog:': '🐕',\n ':dog_face:': '🐶',\n ':dollar_banknote:': '💵',\n ':dolphin:': '🐬',\n ':door:': '🚪',\n ':dotted_line_face:': '\\U0001fae5',\n ':dotted_six-pointed_star:': '🔯',\n ':double_curly_loop:': '➿',\n ':double_exclamation_mark:': '‼️',\n ':doughnut:': '🍩',\n ':dove:': '🕊️',\n ':down-left_arrow:': '↙️',\n ':down-right_arrow:': '↘️',\n ':down_arrow:': '⬇️',\n ':downcast_face_with_sweat:': '😓',\n ':downwards_button:': '🔽',\n ':dragon:': '🐉',\n ':dragon_face:': '🐲',\n ':dress:': '👗',\n ':drooling_face:': '🤤',\n ':drop_of_blood:': '🩸',\n ':droplet:': '💧',\n ':drum:': '🥁',\n ':duck:': '🦆',\n ':dumpling:': '🥟',\n ':dvd:': '📀',\n ':e-mail:': '📧',\n ':eagle:': '🦅',\n ':ear:': '👂',\n ':ear_dark_skin_tone:': '👂🏿',\n ':ear_light_skin_tone:': '👂🏻',\n ':ear_medium-dark_skin_tone:': '👂🏾',\n ':ear_medium-light_skin_tone:': '👂🏼',\n ':ear_medium_skin_tone:': '👂🏽',\n ':ear_of_corn:': '🌽',\n ':ear_with_hearing_aid:': '🦻',\n ':ear_with_hearing_aid_dark_skin_tone:': '🦻🏿',\n ':ear_with_hearing_aid_light_skin_tone:': '🦻🏻',\n ':ear_with_hearing_aid_medium-dark_skin_tone:': '🦻🏾',\n ':ear_with_hearing_aid_medium-light_skin_tone:': '🦻🏼',\n ':ear_with_hearing_aid_medium_skin_tone:': '🦻🏽',\n ':egg:': '🥚',\n ':eggplant:': '🍆',\n ':eight-pointed_star:': '✴️',\n ':eight-spoked_asterisk:': '✳️',\n ':eight-thirty:': '🕣',\n ':eight_o’clock:': '🕗',\n ':eject_button:': '⏏️',\n ':electric_plug:': '🔌',\n ':elephant:': '🐘',\n ':elevator:': '\\U0001f6d7',\n ':eleven-thirty:': '🕦',\n ':eleven_o’clock:': '🕚',\n ':elf:': '🧝',\n ':elf_dark_skin_tone:': '🧝🏿',\n ':elf_light_skin_tone:': '🧝🏻',\n ':elf_medium-dark_skin_tone:': '🧝🏾',\n ':elf_medium-light_skin_tone:': '🧝🏼',\n ':elf_medium_skin_tone:': '🧝🏽',\n ':empty_nest:': '\\U0001fab9',\n ':envelope:': '✉️',\n ':envelope_with_arrow:': '📩',\n ':euro_banknote:': '💶',\n ':evergreen_tree:': '🌲',\n ':ewe:': '🐑',\n ':exclamation_question_mark:': '⁉️',\n ':exploding_head:': '🤯',\n ':expressionless_face:': '😑',\n ':eye:': '👁️',\n ':eye_in_speech_bubble:': '👁️\\u200d🗨️',\n ':eyes:': '👀',\n ':face_blowing_a_kiss:': '😘',\n ':face_exhaling:': '😮\\u200d💨',\n ':face_holding_back_tears:': '\\U0001f979',\n ':face_in_clouds:': '😶\\u200d🌫️',\n ':face_savoring_food:': '😋',\n ':face_screaming_in_fear:': '😱',\n ':face_vomiting:': '🤮',\n ':face_with_crossed-out_eyes:': '😵',\n ':face_with_diagonal_mouth:': '\\U0001fae4',\n ':face_with_hand_over_mouth:': '🤭',\n ':face_with_head-bandage:': '🤕',\n ':face_with_medical_mask:': '😷',\n ':face_with_monocle:': '🧐',\n ':face_with_open_eyes_and_hand_over_mouth:': '\\U0001fae2',\n ':face_with_open_mouth:': '😮',\n ':face_with_peeking_eye:': '\\U0001fae3',\n ':face_with_raised_eyebrow:': '🤨',\n ':face_with_rolling_eyes:': '🙄',\n ':face_with_spiral_eyes:': '😵\\u200d💫',\n ':face_with_steam_from_nose:': '😤',\n ':face_with_symbols_on_mouth:': '🤬',\n ':face_with_tears_of_joy:': '😂',\n ':face_with_thermometer:': '🤒',\n ':face_with_tongue:': '😛',\n ':face_without_mouth:': '😶',\n ':factory:': '🏭',\n ':factory_worker:': '🧑\\u200d🏭',\n ':factory_worker_dark_skin_tone:': '🧑🏿\\u200d🏭',\n ':factory_worker_light_skin_tone:': '🧑🏻\\u200d🏭',\n ':factory_worker_medium-dark_skin_tone:': '🧑🏾\\u200d🏭',\n ':factory_worker_medium-light_skin_tone:': '🧑🏼\\u200d🏭',\n ':factory_worker_medium_skin_tone:': '🧑🏽\\u200d🏭',\n ':fairy:': '🧚',\n ':fairy_dark_skin_tone:': '🧚🏿',\n ':fairy_light_skin_tone:': '🧚🏻',\n ':fairy_medium-dark_skin_tone:': '🧚🏾',\n ':fairy_medium-light_skin_tone:': '🧚🏼',\n ':fairy_medium_skin_tone:': '🧚🏽',\n ':falafel:': '🧆',\n ':fallen_leaf:': '🍂',\n ':family:': '👪',\n ':family_man_boy:': '👨\\u200d👦',\n ':family_man_boy_boy:': '👨\\u200d👦\\u200d👦',\n ':family_man_girl:': '👨\\u200d👧',\n ':family_man_girl_boy:': '👨\\u200d👧\\u200d👦',\n ':family_man_girl_girl:': '👨\\u200d👧\\u200d👧',\n ':family_man_man_boy:': '👨\\u200d👨\\u200d👦',\n ':family_man_man_boy_boy:': '👨\\u200d👨\\u200d👦\\u200d👦',\n ':family_man_man_girl:': '👨\\u200d👨\\u200d👧',\n ':family_man_man_girl_boy:': '👨\\u200d👨\\u200d👧\\u200d👦',\n ':family_man_man_girl_girl:': '👨\\u200d👨\\u200d👧\\u200d👧',\n ':family_man_woman_boy:': '👨\\u200d👩\\u200d👦',\n ':family_man_woman_boy_boy:': '👨\\u200d👩\\u200d👦\\u200d👦',\n ':family_man_woman_girl:': '👨\\u200d👩\\u200d👧',\n ':family_man_woman_girl_boy:': '👨\\u200d👩\\u200d👧\\u200d👦',\n ':family_man_woman_girl_girl:': '👨\\u200d👩\\u200d👧\\u200d👧',\n ':family_woman_boy:': '👩\\u200d👦',\n ':family_woman_boy_boy:': '👩\\u200d👦\\u200d👦',\n ':family_woman_girl:': '👩\\u200d👧',\n ':family_woman_girl_boy:': '👩\\u200d👧\\u200d👦',\n ':family_woman_girl_girl:': '👩\\u200d👧\\u200d👧',\n ':family_woman_woman_boy:': '👩\\u200d👩\\u200d👦',\n ':family_woman_woman_boy_boy:': '👩\\u200d👩\\u200d👦\\u200d👦',\n ':family_woman_woman_girl:': '👩\\u200d👩\\u200d👧',\n ':family_woman_woman_girl_boy:': '👩\\u200d👩\\u200d👧\\u200d👦',\n ':family_woman_woman_girl_girl:': '👩\\u200d👩\\u200d👧\\u200d👧',\n ':farmer:': '🧑\\u200d🌾',\n ':farmer_dark_skin_tone:': '🧑🏿\\u200d🌾',\n ':farmer_light_skin_tone:': '🧑🏻\\u200d🌾',\n ':farmer_medium-dark_skin_tone:': '🧑🏾\\u200d🌾',\n ':farmer_medium-light_skin_tone:': '🧑🏼\\u200d🌾',\n ':farmer_medium_skin_tone:': '🧑🏽\\u200d🌾',\n ':fast-forward_button:': '⏩',\n ':fast_down_button:': '⏬',\n ':fast_reverse_button:': '⏪',\n ':fast_up_button:': '⏫',\n ':fax_machine:': '📠',\n ':fearful_face:': '😨',\n ':feather:': '\\U0001fab6',\n ':female_sign:': '♀️',\n ...}"
     },
     "execution_count": 9,
     "metadata": {},
     "output_type": "execute_result"
    }
   ],
   "source": [
    "emoji.EMOJI_UNICODE['en']"
   ],
   "metadata": {
    "collapsed": false,
    "pycharm": {
     "name": "#%%\n"
    }
   }
  },
  {
   "cell_type": "code",
   "execution_count": 11,
   "outputs": [
    {
     "data": {
      "text/plain": "'♋'"
     },
     "execution_count": 11,
     "metadata": {},
     "output_type": "execute_result"
    }
   ],
   "source": [
    "emoji.emojize(':Cancer:')"
   ],
   "metadata": {
    "collapsed": false,
    "pycharm": {
     "name": "#%%\n"
    }
   }
  },
  {
   "cell_type": "code",
   "execution_count": 17,
   "outputs": [],
   "source": [
    "emoji_dict={\n",
    "    \"0\": ':beating_heart:',\n",
    "    \"1\": ':baseball:',\n",
    "    \"2\": ':face_with_tears_of_joy:',\n",
    "    \"3\": ':face_with_head-bandage:',\n",
    "    \"4\": ':bread:'\n",
    "}"
   ],
   "metadata": {
    "collapsed": false,
    "pycharm": {
     "name": "#%%\n"
    }
   }
  },
  {
   "cell_type": "code",
   "execution_count": 18,
   "outputs": [
    {
     "name": "stdout",
     "output_type": "stream",
     "text": [
      "💓 ⚾ 😂 🤕 🍞 "
     ]
    }
   ],
   "source": [
    "for e in emoji_dict.values():\n",
    "    print(emoji.emojize(e), end=\" \")"
   ],
   "metadata": {
    "collapsed": false,
    "pycharm": {
     "name": "#%%\n"
    }
   }
  },
  {
   "cell_type": "code",
   "execution_count": 22,
   "outputs": [],
   "source": [
    "X_train=train[0].values\n",
    "y_train=train[1].values"
   ],
   "metadata": {
    "collapsed": false,
    "pycharm": {
     "name": "#%%\n"
    }
   }
  },
  {
   "cell_type": "code",
   "execution_count": 24,
   "outputs": [
    {
     "data": {
      "text/plain": "((132,), (132,))"
     },
     "execution_count": 24,
     "metadata": {},
     "output_type": "execute_result"
    }
   ],
   "source": [
    "X_train.shape,y_train.shape"
   ],
   "metadata": {
    "collapsed": false,
    "pycharm": {
     "name": "#%%\n"
    }
   }
  },
  {
   "cell_type": "code",
   "execution_count": 25,
   "outputs": [],
   "source": [
    "#Get embedding"
   ],
   "metadata": {
    "collapsed": false,
    "pycharm": {
     "name": "#%%\n"
    }
   }
  },
  {
   "cell_type": "code",
   "execution_count": 30,
   "outputs": [],
   "source": [
    "f=open(\"glove.6B.50d.txt\",encoding=\"utf-8\")"
   ],
   "metadata": {
    "collapsed": false,
    "pycharm": {
     "name": "#%%\n"
    }
   }
  },
  {
   "cell_type": "code",
   "execution_count": 31,
   "outputs": [],
   "source": [
    "embedding_matrix={}"
   ],
   "metadata": {
    "collapsed": false,
    "pycharm": {
     "name": "#%%\n"
    }
   }
  },
  {
   "cell_type": "code",
   "execution_count": 32,
   "outputs": [],
   "source": [
    "for line in f:\n",
    "    values=line.split()\n",
    "    word=values[0]\n",
    "    emb=np.array(values[1:],dtype=\"float\")\n",
    "    embedding_matrix[word]=emb"
   ],
   "metadata": {
    "collapsed": false,
    "pycharm": {
     "name": "#%%\n"
    }
   }
  },
  {
   "cell_type": "code",
   "execution_count": 35,
   "outputs": [],
   "source": [
    "def get_embedding_matrix_for_data(data):\n",
    "    maxLen=10\n",
    "    embedding_data=np.zeros((len(data),maxLen,50))\n",
    "\n",
    "    for ix in range(data.shape[0]):\n",
    "        words_in_sen=data[ix].split()\n",
    "\n",
    "        for ij in range(len(words_in_sen)):\n",
    "            if embedding_matrix.get(words_in_sen[ij].lower()) is not None:\n",
    "                embedding_data[ix,ij,:]=embedding_matrix[words_in_sen[ij].lower()]\n",
    "\n",
    "    return embedding_data"
   ],
   "metadata": {
    "collapsed": false,
    "pycharm": {
     "name": "#%%\n"
    }
   }
  },
  {
   "cell_type": "code",
   "execution_count": 36,
   "outputs": [],
   "source": [
    "X_train=get_embedding_matrix_for_data(X_train)"
   ],
   "metadata": {
    "collapsed": false,
    "pycharm": {
     "name": "#%%\n"
    }
   }
  },
  {
   "cell_type": "code",
   "execution_count": 38,
   "outputs": [
    {
     "data": {
      "text/plain": "(132, 10, 50)"
     },
     "execution_count": 38,
     "metadata": {},
     "output_type": "execute_result"
    }
   ],
   "source": [
    "X_train.shape"
   ],
   "metadata": {
    "collapsed": false,
    "pycharm": {
     "name": "#%%\n"
    }
   }
  },
  {
   "cell_type": "code",
   "execution_count": 39,
   "outputs": [],
   "source": [
    "# Convert output to categorical\n",
    "\n",
    "from keras.utils.np_utils import to_categorical"
   ],
   "metadata": {
    "collapsed": false,
    "pycharm": {
     "name": "#%%\n"
    }
   }
  },
  {
   "cell_type": "code",
   "execution_count": 40,
   "outputs": [],
   "source": [
    "y_train=to_categorical(y_train)"
   ],
   "metadata": {
    "collapsed": false,
    "pycharm": {
     "name": "#%%\n"
    }
   }
  },
  {
   "cell_type": "code",
   "execution_count": 41,
   "outputs": [
    {
     "data": {
      "text/plain": "array([[0., 0., 0., 1., 0.],\n       [0., 0., 1., 0., 0.],\n       [0., 0., 0., 1., 0.],\n       [1., 0., 0., 0., 0.],\n       [0., 0., 0., 0., 1.],\n       [1., 0., 0., 0., 0.],\n       [0., 0., 0., 1., 0.],\n       [0., 0., 1., 0., 0.],\n       [0., 0., 0., 1., 0.],\n       [0., 1., 0., 0., 0.],\n       [0., 0., 0., 1., 0.],\n       [0., 0., 0., 1., 0.],\n       [0., 1., 0., 0., 0.],\n       [0., 0., 0., 1., 0.],\n       [0., 0., 1., 0., 0.],\n       [0., 0., 0., 1., 0.],\n       [0., 0., 1., 0., 0.],\n       [0., 0., 0., 1., 0.],\n       [0., 1., 0., 0., 0.],\n       [0., 0., 1., 0., 0.],\n       [0., 0., 0., 1., 0.],\n       [1., 0., 0., 0., 0.],\n       [0., 0., 1., 0., 0.],\n       [0., 0., 1., 0., 0.],\n       [0., 0., 1., 0., 0.],\n       [0., 1., 0., 0., 0.],\n       [0., 0., 0., 0., 1.],\n       [0., 0., 1., 0., 0.],\n       [0., 0., 1., 0., 0.],\n       [0., 0., 0., 0., 1.],\n       [1., 0., 0., 0., 0.],\n       [0., 0., 0., 1., 0.],\n       [0., 0., 0., 0., 1.],\n       [0., 0., 1., 0., 0.],\n       [1., 0., 0., 0., 0.],\n       [0., 0., 0., 1., 0.],\n       [0., 0., 1., 0., 0.],\n       [0., 0., 1., 0., 0.],\n       [0., 0., 0., 1., 0.],\n       [0., 0., 0., 0., 1.],\n       [0., 0., 1., 0., 0.],\n       [0., 0., 1., 0., 0.],\n       [1., 0., 0., 0., 0.],\n       [0., 0., 1., 0., 0.],\n       [0., 0., 0., 1., 0.],\n       [1., 0., 0., 0., 0.],\n       [0., 0., 0., 1., 0.],\n       [0., 0., 1., 0., 0.],\n       [0., 0., 0., 0., 1.],\n       [0., 0., 0., 1., 0.],\n       [1., 0., 0., 0., 0.],\n       [0., 0., 0., 1., 0.],\n       [0., 0., 0., 1., 0.],\n       [0., 0., 0., 1., 0.],\n       [0., 0., 0., 0., 1.],\n       [0., 0., 1., 0., 0.],\n       [0., 1., 0., 0., 0.],\n       [0., 1., 0., 0., 0.],\n       [0., 1., 0., 0., 0.],\n       [0., 0., 1., 0., 0.],\n       [0., 0., 0., 1., 0.],\n       [0., 1., 0., 0., 0.],\n       [1., 0., 0., 0., 0.],\n       [1., 0., 0., 0., 0.],\n       [1., 0., 0., 0., 0.],\n       [0., 0., 0., 1., 0.],\n       [0., 0., 0., 0., 1.],\n       [0., 0., 0., 0., 1.],\n       [0., 0., 1., 0., 0.],\n       [0., 0., 1., 0., 0.],\n       [0., 1., 0., 0., 0.],\n       [0., 0., 1., 0., 0.],\n       [1., 0., 0., 0., 0.],\n       [0., 0., 0., 1., 0.],\n       [0., 0., 1., 0., 0.],\n       [0., 0., 1., 0., 0.],\n       [1., 0., 0., 0., 0.],\n       [1., 0., 0., 0., 0.],\n       [0., 0., 0., 1., 0.],\n       [0., 1., 0., 0., 0.],\n       [0., 0., 1., 0., 0.],\n       [0., 1., 0., 0., 0.],\n       [0., 0., 1., 0., 0.],\n       [0., 0., 1., 0., 0.],\n       [0., 0., 0., 0., 1.],\n       [0., 0., 0., 1., 0.],\n       [0., 0., 0., 1., 0.],\n       [0., 0., 1., 0., 0.],\n       [0., 0., 0., 0., 1.],\n       [1., 0., 0., 0., 0.],\n       [1., 0., 0., 0., 0.],\n       [1., 0., 0., 0., 0.],\n       [0., 0., 0., 1., 0.],\n       [0., 0., 0., 1., 0.],\n       [0., 0., 0., 1., 0.],\n       [0., 0., 1., 0., 0.],\n       [1., 0., 0., 0., 0.],\n       [0., 1., 0., 0., 0.],\n       [0., 0., 1., 0., 0.],\n       [0., 0., 0., 1., 0.],\n       [1., 0., 0., 0., 0.],\n       [0., 0., 1., 0., 0.],\n       [0., 0., 1., 0., 0.],\n       [0., 0., 1., 0., 0.],\n       [0., 0., 0., 1., 0.],\n       [0., 0., 1., 0., 0.],\n       [0., 0., 1., 0., 0.],\n       [0., 0., 1., 0., 0.],\n       [0., 0., 0., 0., 1.],\n       [0., 1., 0., 0., 0.],\n       [0., 1., 0., 0., 0.],\n       [0., 0., 0., 1., 0.],\n       [0., 0., 0., 1., 0.],\n       [0., 0., 0., 0., 1.],\n       [0., 1., 0., 0., 0.],\n       [0., 0., 1., 0., 0.],\n       [0., 1., 0., 0., 0.],\n       [0., 1., 0., 0., 0.],\n       [0., 0., 0., 1., 0.],\n       [0., 1., 0., 0., 0.],\n       [1., 0., 0., 0., 0.],\n       [0., 0., 0., 0., 1.],\n       [1., 0., 0., 0., 0.],\n       [0., 0., 0., 1., 0.],\n       [0., 0., 0., 1., 0.],\n       [0., 0., 0., 0., 1.],\n       [0., 0., 0., 0., 1.],\n       [0., 1., 0., 0., 0.],\n       [0., 0., 0., 0., 1.],\n       [0., 0., 0., 1., 0.],\n       [1., 0., 0., 0., 0.],\n       [0., 0., 1., 0., 0.]], dtype=float32)"
     },
     "execution_count": 41,
     "metadata": {},
     "output_type": "execute_result"
    }
   ],
   "source": [
    "y_train"
   ],
   "metadata": {
    "collapsed": false,
    "pycharm": {
     "name": "#%%\n"
    }
   }
  },
  {
   "cell_type": "code",
   "execution_count": 46,
   "outputs": [],
   "source": [
    "from keras.models import Sequential\n",
    "from keras.layers import LSTM,SimpleRNN,Dense,Dropout\n",
    "import keras"
   ],
   "metadata": {
    "collapsed": false,
    "pycharm": {
     "name": "#%%\n"
    }
   }
  },
  {
   "cell_type": "code",
   "execution_count": 44,
   "outputs": [],
   "source": [
    "model=Sequential()\n",
    "model.add(LSTM(64,input_shape=(X_train.shape[1],X_train.shape[2]),return_sequences=True))\n",
    "model.add(Dropout(0.3))\n",
    "\n",
    "model.add(LSTM(32))\n",
    "model.add(Dropout(0.2))\n",
    "\n",
    "model.add(Dense(10,activation='relu'))\n",
    "model.add(Dense(5,activation='softmax'))"
   ],
   "metadata": {
    "collapsed": false,
    "pycharm": {
     "name": "#%%\n"
    }
   }
  },
  {
   "cell_type": "code",
   "execution_count": 45,
   "outputs": [
    {
     "name": "stdout",
     "output_type": "stream",
     "text": [
      "Model: \"sequential_1\"\n",
      "_________________________________________________________________\n",
      " Layer (type)                Output Shape              Param #   \n",
      "=================================================================\n",
      " lstm_2 (LSTM)               (None, 10, 64)            29440     \n",
      "                                                                 \n",
      " dropout_1 (Dropout)         (None, 10, 64)            0         \n",
      "                                                                 \n",
      " lstm_3 (LSTM)               (None, 32)                12416     \n",
      "                                                                 \n",
      " dropout_2 (Dropout)         (None, 32)                0         \n",
      "                                                                 \n",
      " dense (Dense)               (None, 10)                330       \n",
      "                                                                 \n",
      " dense_1 (Dense)             (None, 5)                 55        \n",
      "                                                                 \n",
      "=================================================================\n",
      "Total params: 42,241\n",
      "Trainable params: 42,241\n",
      "Non-trainable params: 0\n",
      "_________________________________________________________________\n"
     ]
    }
   ],
   "source": [
    "model.summary()"
   ],
   "metadata": {
    "collapsed": false,
    "pycharm": {
     "name": "#%%\n"
    }
   }
  },
  {
   "cell_type": "code",
   "execution_count": 47,
   "outputs": [],
   "source": [
    "model.compile(loss='categorical_crossentropy',optimizer='adam',metrics=['accuracy'])"
   ],
   "metadata": {
    "collapsed": false,
    "pycharm": {
     "name": "#%%\n"
    }
   }
  },
  {
   "cell_type": "code",
   "execution_count": 48,
   "outputs": [
    {
     "name": "stdout",
     "output_type": "stream",
     "text": [
      "Epoch 1/50\n",
      "4/4 [==============================] - 3s 189ms/step - loss: 1.6140 - accuracy: 0.1864 - val_loss: 1.6268 - val_accuracy: 0.0714\n",
      "Epoch 2/50\n",
      "4/4 [==============================] - 0s 12ms/step - loss: 1.5863 - accuracy: 0.3390 - val_loss: 1.6478 - val_accuracy: 0.0714\n",
      "Epoch 3/50\n",
      "4/4 [==============================] - 0s 12ms/step - loss: 1.5576 - accuracy: 0.3136 - val_loss: 1.6627 - val_accuracy: 0.0714\n",
      "Epoch 4/50\n",
      "4/4 [==============================] - 0s 12ms/step - loss: 1.5355 - accuracy: 0.3220 - val_loss: 1.6411 - val_accuracy: 0.0714\n",
      "Epoch 5/50\n",
      "4/4 [==============================] - 0s 13ms/step - loss: 1.5006 - accuracy: 0.3305 - val_loss: 1.6300 - val_accuracy: 0.0714\n",
      "Epoch 6/50\n",
      "4/4 [==============================] - 0s 12ms/step - loss: 1.4546 - accuracy: 0.4068 - val_loss: 1.6129 - val_accuracy: 0.1429\n",
      "Epoch 7/50\n",
      "4/4 [==============================] - 0s 12ms/step - loss: 1.4355 - accuracy: 0.4492 - val_loss: 1.6260 - val_accuracy: 0.2143\n",
      "Epoch 8/50\n",
      "4/4 [==============================] - 0s 12ms/step - loss: 1.3823 - accuracy: 0.4237 - val_loss: 1.6050 - val_accuracy: 0.2857\n",
      "Epoch 9/50\n",
      "4/4 [==============================] - 0s 12ms/step - loss: 1.2953 - accuracy: 0.5000 - val_loss: 1.5321 - val_accuracy: 0.3571\n",
      "Epoch 10/50\n",
      "4/4 [==============================] - 0s 12ms/step - loss: 1.2437 - accuracy: 0.5169 - val_loss: 1.6363 - val_accuracy: 0.2857\n",
      "Epoch 11/50\n",
      "4/4 [==============================] - 0s 12ms/step - loss: 1.1663 - accuracy: 0.5593 - val_loss: 1.5467 - val_accuracy: 0.2857\n",
      "Epoch 12/50\n",
      "4/4 [==============================] - 0s 13ms/step - loss: 1.1077 - accuracy: 0.6186 - val_loss: 1.4999 - val_accuracy: 0.3571\n",
      "Epoch 13/50\n",
      "4/4 [==============================] - 0s 12ms/step - loss: 1.0179 - accuracy: 0.6186 - val_loss: 1.4625 - val_accuracy: 0.3571\n",
      "Epoch 14/50\n",
      "4/4 [==============================] - 0s 12ms/step - loss: 0.9362 - accuracy: 0.6441 - val_loss: 1.4175 - val_accuracy: 0.3571\n",
      "Epoch 15/50\n",
      "4/4 [==============================] - 0s 12ms/step - loss: 0.9181 - accuracy: 0.6441 - val_loss: 1.4118 - val_accuracy: 0.3571\n",
      "Epoch 16/50\n",
      "4/4 [==============================] - 0s 12ms/step - loss: 0.8464 - accuracy: 0.6780 - val_loss: 1.3290 - val_accuracy: 0.4286\n",
      "Epoch 17/50\n",
      "4/4 [==============================] - 0s 12ms/step - loss: 0.8240 - accuracy: 0.6525 - val_loss: 1.3649 - val_accuracy: 0.3571\n",
      "Epoch 18/50\n",
      "4/4 [==============================] - 0s 13ms/step - loss: 0.8448 - accuracy: 0.6356 - val_loss: 1.3858 - val_accuracy: 0.3571\n",
      "Epoch 19/50\n",
      "4/4 [==============================] - 0s 13ms/step - loss: 0.7699 - accuracy: 0.6780 - val_loss: 1.3839 - val_accuracy: 0.3571\n",
      "Epoch 20/50\n",
      "4/4 [==============================] - 0s 13ms/step - loss: 0.6917 - accuracy: 0.6949 - val_loss: 1.2438 - val_accuracy: 0.4286\n",
      "Epoch 21/50\n",
      "4/4 [==============================] - 0s 13ms/step - loss: 0.6783 - accuracy: 0.7203 - val_loss: 1.6164 - val_accuracy: 0.2857\n",
      "Epoch 22/50\n",
      "4/4 [==============================] - 0s 13ms/step - loss: 0.6502 - accuracy: 0.7119 - val_loss: 1.4768 - val_accuracy: 0.3571\n",
      "Epoch 23/50\n",
      "4/4 [==============================] - 0s 13ms/step - loss: 0.6630 - accuracy: 0.7288 - val_loss: 1.2903 - val_accuracy: 0.4286\n",
      "Epoch 24/50\n",
      "4/4 [==============================] - 0s 12ms/step - loss: 0.6615 - accuracy: 0.6949 - val_loss: 1.5761 - val_accuracy: 0.2857\n",
      "Epoch 25/50\n",
      "4/4 [==============================] - 0s 12ms/step - loss: 0.6296 - accuracy: 0.7542 - val_loss: 1.0420 - val_accuracy: 0.5000\n",
      "Epoch 26/50\n",
      "4/4 [==============================] - 0s 12ms/step - loss: 0.5526 - accuracy: 0.7373 - val_loss: 1.8640 - val_accuracy: 0.2857\n",
      "Epoch 27/50\n",
      "4/4 [==============================] - 0s 12ms/step - loss: 0.5969 - accuracy: 0.7119 - val_loss: 1.4464 - val_accuracy: 0.4286\n",
      "Epoch 28/50\n",
      "4/4 [==============================] - 0s 13ms/step - loss: 0.6293 - accuracy: 0.7373 - val_loss: 1.4837 - val_accuracy: 0.2857\n",
      "Epoch 29/50\n",
      "4/4 [==============================] - 0s 12ms/step - loss: 0.5227 - accuracy: 0.7627 - val_loss: 1.7906 - val_accuracy: 0.2857\n",
      "Epoch 30/50\n",
      "4/4 [==============================] - 0s 13ms/step - loss: 0.5278 - accuracy: 0.7627 - val_loss: 1.0623 - val_accuracy: 0.5714\n",
      "Epoch 31/50\n",
      "4/4 [==============================] - 0s 13ms/step - loss: 0.4980 - accuracy: 0.7966 - val_loss: 1.1016 - val_accuracy: 0.4286\n",
      "Epoch 32/50\n",
      "4/4 [==============================] - 0s 12ms/step - loss: 0.4729 - accuracy: 0.7966 - val_loss: 1.4597 - val_accuracy: 0.4286\n",
      "Epoch 33/50\n",
      "4/4 [==============================] - 0s 13ms/step - loss: 0.4442 - accuracy: 0.8305 - val_loss: 1.1426 - val_accuracy: 0.5000\n",
      "Epoch 34/50\n",
      "4/4 [==============================] - 0s 12ms/step - loss: 0.4170 - accuracy: 0.8475 - val_loss: 1.0732 - val_accuracy: 0.6429\n",
      "Epoch 35/50\n",
      "4/4 [==============================] - 0s 12ms/step - loss: 0.4635 - accuracy: 0.8305 - val_loss: 1.3213 - val_accuracy: 0.6429\n",
      "Epoch 36/50\n",
      "4/4 [==============================] - 0s 12ms/step - loss: 0.3868 - accuracy: 0.8814 - val_loss: 0.8821 - val_accuracy: 0.6429\n",
      "Epoch 37/50\n",
      "4/4 [==============================] - 0s 12ms/step - loss: 0.4350 - accuracy: 0.8559 - val_loss: 1.3825 - val_accuracy: 0.5714\n",
      "Epoch 38/50\n",
      "4/4 [==============================] - 0s 14ms/step - loss: 0.5325 - accuracy: 0.8559 - val_loss: 1.2590 - val_accuracy: 0.5714\n",
      "Epoch 39/50\n",
      "4/4 [==============================] - 0s 14ms/step - loss: 0.4212 - accuracy: 0.8644 - val_loss: 0.8856 - val_accuracy: 0.6429\n",
      "Epoch 40/50\n",
      "4/4 [==============================] - 0s 13ms/step - loss: 0.3814 - accuracy: 0.8644 - val_loss: 1.1155 - val_accuracy: 0.6429\n",
      "Epoch 41/50\n",
      "4/4 [==============================] - 0s 13ms/step - loss: 0.3912 - accuracy: 0.8559 - val_loss: 1.1847 - val_accuracy: 0.5000\n",
      "Epoch 42/50\n",
      "4/4 [==============================] - 0s 12ms/step - loss: 0.3242 - accuracy: 0.8983 - val_loss: 1.0019 - val_accuracy: 0.5000\n",
      "Epoch 43/50\n",
      "4/4 [==============================] - 0s 13ms/step - loss: 0.3277 - accuracy: 0.8983 - val_loss: 0.9698 - val_accuracy: 0.5000\n",
      "Epoch 44/50\n",
      "4/4 [==============================] - 0s 13ms/step - loss: 0.2982 - accuracy: 0.9237 - val_loss: 1.1860 - val_accuracy: 0.5714\n",
      "Epoch 45/50\n",
      "4/4 [==============================] - 0s 12ms/step - loss: 0.3010 - accuracy: 0.9068 - val_loss: 1.2036 - val_accuracy: 0.5000\n",
      "Epoch 46/50\n",
      "4/4 [==============================] - 0s 12ms/step - loss: 0.2468 - accuracy: 0.9576 - val_loss: 0.9347 - val_accuracy: 0.6429\n",
      "Epoch 47/50\n",
      "4/4 [==============================] - 0s 12ms/step - loss: 0.2653 - accuracy: 0.9322 - val_loss: 0.9334 - val_accuracy: 0.5714\n",
      "Epoch 48/50\n",
      "4/4 [==============================] - 0s 13ms/step - loss: 0.2466 - accuracy: 0.9407 - val_loss: 0.9248 - val_accuracy: 0.6429\n",
      "Epoch 49/50\n",
      "4/4 [==============================] - 0s 12ms/step - loss: 0.2179 - accuracy: 0.9576 - val_loss: 0.8936 - val_accuracy: 0.6429\n",
      "Epoch 50/50\n",
      "4/4 [==============================] - 0s 12ms/step - loss: 0.2321 - accuracy: 0.9576 - val_loss: 1.6719 - val_accuracy: 0.5000\n"
     ]
    }
   ],
   "source": [
    "# Model Training\n",
    "M1=model.fit(X_train,y_train,epochs=50,batch_size=32,validation_split=0.1)"
   ],
   "metadata": {
    "collapsed": false,
    "pycharm": {
     "name": "#%%\n"
    }
   }
  },
  {
   "cell_type": "code",
   "execution_count": 49,
   "outputs": [
    {
     "name": "stdout",
     "output_type": "stream",
     "text": [
      "5/5 [==============================] - 0s 7ms/step - loss: 0.4053 - accuracy: 0.8939\n"
     ]
    },
    {
     "data": {
      "text/plain": "0.8939393758773804"
     },
     "execution_count": 49,
     "metadata": {},
     "output_type": "execute_result"
    }
   ],
   "source": [
    "# Model Evaluation\n",
    "model.evaluate(X_train,y_train)[1]"
   ],
   "metadata": {
    "collapsed": false,
    "pycharm": {
     "name": "#%%\n"
    }
   }
  },
  {
   "cell_type": "code",
   "execution_count": 50,
   "outputs": [],
   "source": [
    "#test data preprocessing\n",
    "\n",
    "test[0]=test[0].apply(lambda x:x[:-1])\n",
    "X_test=test[0].values\n",
    "y_test=test[1].values"
   ],
   "metadata": {
    "collapsed": false,
    "pycharm": {
     "name": "#%%\n"
    }
   }
  },
  {
   "cell_type": "code",
   "execution_count": 51,
   "outputs": [],
   "source": [
    "X_test=get_embedding_matrix_for_data(X_test)"
   ],
   "metadata": {
    "collapsed": false,
    "pycharm": {
     "name": "#%%\n"
    }
   }
  },
  {
   "cell_type": "code",
   "execution_count": 52,
   "outputs": [],
   "source": [
    "y_test=to_categorical(y_test)"
   ],
   "metadata": {
    "collapsed": false,
    "pycharm": {
     "name": "#%%\n"
    }
   }
  },
  {
   "cell_type": "code",
   "execution_count": 53,
   "outputs": [
    {
     "name": "stdout",
     "output_type": "stream",
     "text": [
      "2/2 [==============================] - 0s 4ms/step - loss: 2.0600 - accuracy: 0.5357\n"
     ]
    },
    {
     "data": {
      "text/plain": "0.5357142686843872"
     },
     "execution_count": 53,
     "metadata": {},
     "output_type": "execute_result"
    }
   ],
   "source": [
    "model.evaluate(X_test,y_test)[1]"
   ],
   "metadata": {
    "collapsed": false,
    "pycharm": {
     "name": "#%%\n"
    }
   }
  },
  {
   "cell_type": "code",
   "execution_count": 55,
   "outputs": [],
   "source": [
    "y_pred=model.predict(X_test)\n",
    "y_pred=np.argmax(y_pred,axis=1)"
   ],
   "metadata": {
    "collapsed": false,
    "pycharm": {
     "name": "#%%\n"
    }
   }
  },
  {
   "cell_type": "code",
   "execution_count": 56,
   "outputs": [
    {
     "data": {
      "text/plain": "array([4, 3, 3, 2, 2, 2, 3, 2, 4, 2, 1, 2, 0, 0, 1, 3, 2, 2, 3, 2, 3, 0,\n       4, 3, 3, 3, 2, 0, 1, 2, 3, 1, 3, 2, 2, 1, 2, 0, 1, 2, 1, 0, 3, 1,\n       2, 1, 2, 2, 3, 3, 1, 0, 3, 2, 2, 2], dtype=int64)"
     },
     "execution_count": 56,
     "metadata": {},
     "output_type": "execute_result"
    }
   ],
   "source": [
    "y_pred"
   ],
   "metadata": {
    "collapsed": false,
    "pycharm": {
     "name": "#%%\n"
    }
   }
  },
  {
   "cell_type": "code",
   "execution_count": 58,
   "outputs": [
    {
     "name": "stdout",
     "output_type": "stream",
     "text": [
      "I want to eat\n",
      "Predicted: 🍞\n",
      "Actual: 🍞\n",
      "\n",
      "he did not answer\n",
      "Predicted: 🤕\n",
      "Actual: 🤕\n",
      "\n",
      "he got a raise\n",
      "Predicted: 🤕\n",
      "Actual: 😂\n",
      "\n",
      "she got me a present\n",
      "Predicted: 😂\n",
      "Actual: 💓\n",
      "\n",
      "ha ha ha it was so funny\n",
      "Predicted: 😂\n",
      "Actual: 😂\n",
      "\n",
      "he is a good friend\n",
      "Predicted: 😂\n",
      "Actual: 💓\n",
      "\n",
      "I am upset\n",
      "Predicted: 🤕\n",
      "Actual: 💓\n",
      "\n",
      "We had such a lovely dinner tonight\n",
      "Predicted: 😂\n",
      "Actual: 💓\n",
      "\n",
      "where is the food\n",
      "Predicted: 🍞\n",
      "Actual: 🍞\n",
      "\n",
      "Stop making this joke ha ha ha\n",
      "Predicted: 😂\n",
      "Actual: 😂\n",
      "\n",
      "where is the ball\n",
      "Predicted: ⚾\n",
      "Actual: ⚾\n",
      "\n",
      "work is hard\n",
      "Predicted: 😂\n",
      "Actual: 🤕\n",
      "\n",
      "This girl is messing with me\n",
      "Predicted: 💓\n",
      "Actual: 🤕\n",
      "\n",
      "are you serious ha ha\n",
      "Predicted: 💓\n",
      "Actual: 😂\n",
      "\n",
      "Let us go play baseball\n",
      "Predicted: ⚾\n",
      "Actual: ⚾\n",
      "\n",
      "This stupid grader is not working \n",
      "Predicted: 🤕\n",
      "Actual: 🤕\n",
      "\n",
      "work is horrible\n",
      "Predicted: 😂\n",
      "Actual: 🤕\n",
      "\n",
      "Congratulation for having a baby\n",
      "Predicted: 😂\n",
      "Actual: 😂\n",
      "\n",
      "stop messing around\n",
      "Predicted: 🤕\n",
      "Actual: 🤕\n",
      "\n",
      "any suggestions for dinner\n",
      "Predicted: 😂\n",
      "Actual: 🍞\n",
      "\n",
      "I love taking breaks\n",
      "Predicted: 🤕\n",
      "Actual: 💓\n",
      "\n",
      "you brighten my day\n",
      "Predicted: 💓\n",
      "Actual: 😂\n",
      "\n",
      "I boiled rice\n",
      "Predicted: 🍞\n",
      "Actual: 🍞\n",
      "\n",
      "she is a bully\n",
      "Predicted: 🤕\n",
      "Actual: 🤕\n",
      "\n",
      "Why are you feeling bad\n",
      "Predicted: 🤕\n",
      "Actual: 🤕\n",
      "\n",
      "I am upset\n",
      "Predicted: 🤕\n",
      "Actual: 🤕\n",
      "\n",
      "I worked during my birthday\n",
      "Predicted: 😂\n",
      "Actual: 🤕\n",
      "\n",
      "My grandmother is the love of my life\n",
      "Predicted: 💓\n",
      "Actual: 💓\n",
      "\n",
      "enjoy your break\n",
      "Predicted: ⚾\n",
      "Actual: 😂\n",
      "\n",
      "valentine day is near\n",
      "Predicted: 😂\n",
      "Actual: 💓\n",
      "\n",
      "I miss you so much\n",
      "Predicted: 🤕\n",
      "Actual: 💓\n",
      "\n",
      "throw the ball\n",
      "Predicted: ⚾\n",
      "Actual: ⚾\n",
      "\n",
      "My life is so boring\n",
      "Predicted: 🤕\n",
      "Actual: 🤕\n",
      "\n",
      "she said yes\n",
      "Predicted: 😂\n",
      "Actual: 😂\n",
      "\n",
      "will you be my valentine\n",
      "Predicted: 😂\n",
      "Actual: 💓\n",
      "\n",
      "he can pitch really well\n",
      "Predicted: ⚾\n",
      "Actual: ⚾\n",
      "\n",
      "dance with me\n",
      "Predicted: 😂\n",
      "Actual: 😂\n",
      "\n",
      "I am starving\n",
      "Predicted: 💓\n",
      "Actual: 🍞\n",
      "\n",
      "See you at the restaurant\n",
      "Predicted: ⚾\n",
      "Actual: 🍞\n",
      "\n",
      "I like to laugh\n",
      "Predicted: 😂\n",
      "Actual: 😂\n",
      "\n",
      "I will go danc\n",
      "Predicted: ⚾\n",
      "Actual: 😂\n",
      "\n",
      "I like your jacket \n",
      "Predicted: 💓\n",
      "Actual: 😂\n",
      "\n",
      "i miss her\n",
      "Predicted: 🤕\n",
      "Actual: 💓\n",
      "\n",
      "what is your favorite baseball game\n",
      "Predicted: ⚾\n",
      "Actual: ⚾\n",
      "\n",
      "Good job\n",
      "Predicted: 😂\n",
      "Actual: 😂\n",
      "\n",
      "I love to the stars and back\n",
      "Predicted: ⚾\n",
      "Actual: 💓\n",
      "\n",
      "What you did was awesome\n",
      "Predicted: 😂\n",
      "Actual: 😂\n",
      "\n",
      "ha ha ha lol\n",
      "Predicted: 😂\n",
      "Actual: 😂\n",
      "\n",
      "I want to joke\n",
      "Predicted: 🤕\n",
      "Actual: 😂\n",
      "\n",
      "go away\n",
      "Predicted: 🤕\n",
      "Actual: 🤕\n",
      "\n",
      "yesterday we lost again\n",
      "Predicted: ⚾\n",
      "Actual: 🤕\n",
      "\n",
      "family is all I have\n",
      "Predicted: 💓\n",
      "Actual: 💓\n",
      "\n",
      "you are failing this exercise\n",
      "Predicted: 🤕\n",
      "Actual: 🤕\n",
      "\n",
      "Good joke\n",
      "Predicted: 😂\n",
      "Actual: 😂\n",
      "\n",
      "You totally deserve this prize\n",
      "Predicted: 😂\n",
      "Actual: 😂\n",
      "\n",
      "I did not have breakfast\n",
      "Predicted: 😂\n",
      "Actual: 🤕\n",
      "\n"
     ]
    }
   ],
   "source": [
    "for t in range(len(test)):\n",
    "    print(test[0].iloc[t])\n",
    "    print(\"Predicted:\",emoji.emojize(emoji_dict[str(y_pred[t])]))\n",
    "    print(\"Actual:\",emoji.emojize(emoji_dict[str(test[1].iloc[t])]))\n",
    "\n",
    "    print()"
   ],
   "metadata": {
    "collapsed": false,
    "pycharm": {
     "name": "#%%\n"
    }
   }
  },
  {
   "cell_type": "code",
   "execution_count": null,
   "outputs": [],
   "source": [],
   "metadata": {
    "collapsed": false,
    "pycharm": {
     "name": "#%%\n"
    }
   }
  }
 ],
 "metadata": {
  "kernelspec": {
   "display_name": "Python 3",
   "language": "python",
   "name": "python3"
  },
  "language_info": {
   "codemirror_mode": {
    "name": "ipython",
    "version": 2
   },
   "file_extension": ".py",
   "mimetype": "text/x-python",
   "name": "python",
   "nbconvert_exporter": "python",
   "pygments_lexer": "ipython2",
   "version": "2.7.6"
  }
 },
 "nbformat": 4,
 "nbformat_minor": 0
}